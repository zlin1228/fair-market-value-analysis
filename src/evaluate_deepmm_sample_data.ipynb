{
 "cells": [
  {
   "cell_type": "code",
   "execution_count": 23,
   "outputs": [],
   "source": [
    "import pandas as pd\n",
    "import datetime"
   ],
   "metadata": {
    "collapsed": false,
    "pycharm": {
     "name": "#%%\n"
    }
   }
  },
  {
   "cell_type": "code",
   "execution_count": 5,
   "outputs": [],
   "source": [
    "\n",
    "deepmm_sample = pd.read_csv('../data/Deep_MM_sample.csv', parse_dates=['execution_date', 'report_date'])"
   ],
   "metadata": {
    "collapsed": false,
    "pycharm": {
     "name": "#%%\n"
    }
   }
  },
  {
   "cell_type": "code",
   "execution_count": 6,
   "outputs": [
    {
     "data": {
      "text/plain": "dtype('<M8[ns]')"
     },
     "execution_count": 6,
     "metadata": {},
     "output_type": "execute_result"
    }
   ],
   "source": [
    "deepmm_sample.report_date.dtype"
   ],
   "metadata": {
    "collapsed": false,
    "pycharm": {
     "name": "#%%\n"
    }
   }
  },
  {
   "cell_type": "code",
   "execution_count": 9,
   "outputs": [
    {
     "data": {
      "text/plain": "         Unnamed: 0      execution_date         report_date          figi  \\\n0                 0 2021-11-05 15:48:28 2021-11-05 15:48:28  BBG00JDHWGK3   \n1                 1 2021-11-05 15:48:55 2021-11-05 15:49:01  BBG00F0V86D1   \n2                 2 2021-11-05 15:48:55 2021-11-05 15:49:01  BBG00F0V86D1   \n3                 3 2021-11-05 15:49:30 2021-11-05 15:49:32  BBG0045NJ2G3   \n4                 4 2021-11-05 15:49:01 2021-11-05 15:49:33  BBG00FRY84X9   \n...             ...                 ...                 ...           ...   \n2407449        9993 2022-03-02 15:26:42 2022-03-02 15:26:57  BBG009BVCLT8   \n2407450        9994 2022-03-02 15:26:41 2022-03-02 15:26:57  BBG00TJXGBH3   \n2407451        9995 2022-03-02 15:26:39 2022-03-02 15:26:57  BBG00CCN8WL7   \n2407452        9996 2022-03-02 15:26:35 2022-03-02 15:26:57  BBG0068N9NQ9   \n2407453        9997 2022-03-02 15:26:55 2022-03-02 15:26:57  BBG00HY3R5Q9   \n\n         quantity buy_sell side ats_indicator    price  deepmm_price  \\\n0           18000        S    C             N  108.618    108.840965   \n1           26000        B    C             N  106.604    106.487891   \n2           26000        S    D             Y  106.604    106.536286   \n3            4000        S    D             N  104.100    103.924602   \n4           18000        S    D             N  109.672    109.506482   \n...           ...      ...  ...           ...      ...           ...   \n2407449      5000        B    C             N  104.680    104.665538   \n2407450      8000        B    C             N   96.127     96.094238   \n2407451      9000        B    C             N  106.507    106.355932   \n2407452      6000        B    C             N  103.114    103.105248   \n2407453     24000        S    D             N  102.523    102.598551   \n\n            error  squared_error  \n0        0.222965       0.049713  \n1        0.116109       0.013481  \n2        0.067714       0.004585  \n3        0.175398       0.030764  \n4        0.165518       0.027396  \n...           ...            ...  \n2407449  0.014462       0.000209  \n2407450  0.032762       0.001073  \n2407451  0.151068       0.022821  \n2407452  0.008752       0.000077  \n2407453  0.075551       0.005708  \n\n[2407454 rows x 12 columns]",
      "text/html": "<div>\n<style scoped>\n    .dataframe tbody tr th:only-of-type {\n        vertical-align: middle;\n    }\n\n    .dataframe tbody tr th {\n        vertical-align: top;\n    }\n\n    .dataframe thead th {\n        text-align: right;\n    }\n</style>\n<table border=\"1\" class=\"dataframe\">\n  <thead>\n    <tr style=\"text-align: right;\">\n      <th></th>\n      <th>Unnamed: 0</th>\n      <th>execution_date</th>\n      <th>report_date</th>\n      <th>figi</th>\n      <th>quantity</th>\n      <th>buy_sell</th>\n      <th>side</th>\n      <th>ats_indicator</th>\n      <th>price</th>\n      <th>deepmm_price</th>\n      <th>error</th>\n      <th>squared_error</th>\n    </tr>\n  </thead>\n  <tbody>\n    <tr>\n      <th>0</th>\n      <td>0</td>\n      <td>2021-11-05 15:48:28</td>\n      <td>2021-11-05 15:48:28</td>\n      <td>BBG00JDHWGK3</td>\n      <td>18000</td>\n      <td>S</td>\n      <td>C</td>\n      <td>N</td>\n      <td>108.618</td>\n      <td>108.840965</td>\n      <td>0.222965</td>\n      <td>0.049713</td>\n    </tr>\n    <tr>\n      <th>1</th>\n      <td>1</td>\n      <td>2021-11-05 15:48:55</td>\n      <td>2021-11-05 15:49:01</td>\n      <td>BBG00F0V86D1</td>\n      <td>26000</td>\n      <td>B</td>\n      <td>C</td>\n      <td>N</td>\n      <td>106.604</td>\n      <td>106.487891</td>\n      <td>0.116109</td>\n      <td>0.013481</td>\n    </tr>\n    <tr>\n      <th>2</th>\n      <td>2</td>\n      <td>2021-11-05 15:48:55</td>\n      <td>2021-11-05 15:49:01</td>\n      <td>BBG00F0V86D1</td>\n      <td>26000</td>\n      <td>S</td>\n      <td>D</td>\n      <td>Y</td>\n      <td>106.604</td>\n      <td>106.536286</td>\n      <td>0.067714</td>\n      <td>0.004585</td>\n    </tr>\n    <tr>\n      <th>3</th>\n      <td>3</td>\n      <td>2021-11-05 15:49:30</td>\n      <td>2021-11-05 15:49:32</td>\n      <td>BBG0045NJ2G3</td>\n      <td>4000</td>\n      <td>S</td>\n      <td>D</td>\n      <td>N</td>\n      <td>104.100</td>\n      <td>103.924602</td>\n      <td>0.175398</td>\n      <td>0.030764</td>\n    </tr>\n    <tr>\n      <th>4</th>\n      <td>4</td>\n      <td>2021-11-05 15:49:01</td>\n      <td>2021-11-05 15:49:33</td>\n      <td>BBG00FRY84X9</td>\n      <td>18000</td>\n      <td>S</td>\n      <td>D</td>\n      <td>N</td>\n      <td>109.672</td>\n      <td>109.506482</td>\n      <td>0.165518</td>\n      <td>0.027396</td>\n    </tr>\n    <tr>\n      <th>...</th>\n      <td>...</td>\n      <td>...</td>\n      <td>...</td>\n      <td>...</td>\n      <td>...</td>\n      <td>...</td>\n      <td>...</td>\n      <td>...</td>\n      <td>...</td>\n      <td>...</td>\n      <td>...</td>\n      <td>...</td>\n    </tr>\n    <tr>\n      <th>2407449</th>\n      <td>9993</td>\n      <td>2022-03-02 15:26:42</td>\n      <td>2022-03-02 15:26:57</td>\n      <td>BBG009BVCLT8</td>\n      <td>5000</td>\n      <td>B</td>\n      <td>C</td>\n      <td>N</td>\n      <td>104.680</td>\n      <td>104.665538</td>\n      <td>0.014462</td>\n      <td>0.000209</td>\n    </tr>\n    <tr>\n      <th>2407450</th>\n      <td>9994</td>\n      <td>2022-03-02 15:26:41</td>\n      <td>2022-03-02 15:26:57</td>\n      <td>BBG00TJXGBH3</td>\n      <td>8000</td>\n      <td>B</td>\n      <td>C</td>\n      <td>N</td>\n      <td>96.127</td>\n      <td>96.094238</td>\n      <td>0.032762</td>\n      <td>0.001073</td>\n    </tr>\n    <tr>\n      <th>2407451</th>\n      <td>9995</td>\n      <td>2022-03-02 15:26:39</td>\n      <td>2022-03-02 15:26:57</td>\n      <td>BBG00CCN8WL7</td>\n      <td>9000</td>\n      <td>B</td>\n      <td>C</td>\n      <td>N</td>\n      <td>106.507</td>\n      <td>106.355932</td>\n      <td>0.151068</td>\n      <td>0.022821</td>\n    </tr>\n    <tr>\n      <th>2407452</th>\n      <td>9996</td>\n      <td>2022-03-02 15:26:35</td>\n      <td>2022-03-02 15:26:57</td>\n      <td>BBG0068N9NQ9</td>\n      <td>6000</td>\n      <td>B</td>\n      <td>C</td>\n      <td>N</td>\n      <td>103.114</td>\n      <td>103.105248</td>\n      <td>0.008752</td>\n      <td>0.000077</td>\n    </tr>\n    <tr>\n      <th>2407453</th>\n      <td>9997</td>\n      <td>2022-03-02 15:26:55</td>\n      <td>2022-03-02 15:26:57</td>\n      <td>BBG00HY3R5Q9</td>\n      <td>24000</td>\n      <td>S</td>\n      <td>D</td>\n      <td>N</td>\n      <td>102.523</td>\n      <td>102.598551</td>\n      <td>0.075551</td>\n      <td>0.005708</td>\n    </tr>\n  </tbody>\n</table>\n<p>2407454 rows × 12 columns</p>\n</div>"
     },
     "execution_count": 9,
     "metadata": {},
     "output_type": "execute_result"
    }
   ],
   "source": [
    "deepmm_sample['error'] = (deepmm_sample.price - deepmm_sample.deepmm_price).abs()\n",
    "deepmm_sample['squared_error'] = deepmm_sample.error * deepmm_sample.error\n",
    "deepmm_sample"
   ],
   "metadata": {
    "collapsed": false,
    "pycharm": {
     "name": "#%%\n"
    }
   }
  },
  {
   "cell_type": "code",
   "execution_count": 12,
   "outputs": [
    {
     "data": {
      "text/plain": "0.37986503714159975"
     },
     "execution_count": 12,
     "metadata": {},
     "output_type": "execute_result"
    }
   ],
   "source": [
    "mse = deepmm_sample.squared_error.sum() / deepmm_sample.shape[0]\n",
    "mse"
   ],
   "metadata": {
    "collapsed": false,
    "pycharm": {
     "name": "#%%\n"
    }
   }
  },
  {
   "cell_type": "code",
   "execution_count": 21,
   "outputs": [
    {
     "name": "stderr",
     "output_type": "stream",
     "text": [
      "<ipython-input-21-815627a1659e>:2: FutureWarning: Series.dt.weekofyear and Series.dt.week have been deprecated.  Please use Series.dt.isocalendar().week instead.\n",
      "  simple_groups = simple_summary.groupby([simple_summary.report_date.dt.year, simple_summary.report_date.dt.month, simple_summary.report_date.dt.week]).mean()\n"
     ]
    }
   ],
   "source": [
    "simple_summary = deepmm_sample[['report_date', 'error', 'squared_error']]\n",
    "simple_groups = simple_summary.groupby([simple_summary.report_date.dt.year, simple_summary.report_date.dt.month, simple_summary.report_date.dt.week]).mean()"
   ],
   "metadata": {
    "collapsed": false,
    "pycharm": {
     "name": "#%%\n"
    }
   }
  },
  {
   "cell_type": "code",
   "execution_count": 22,
   "outputs": [
    {
     "data": {
      "text/plain": "                                        error  squared_error\nreport_date report_date report_date                         \n2021        11          44           0.269146       0.178128\n                        45           0.310535       0.391950\n                        46           0.290993       0.384806\n                        47           0.316544       0.375790\n                        48           0.307516       0.336428\n            12          48           0.281789       0.315747\n                        49           0.266765       0.298959\n                        50           0.254561       0.377926\n                        51           0.246230       0.254228\n                        52           0.246844       0.241001\n2022        1           1            0.326378       0.449341\n                        2            0.255687       0.323720\n                        3            0.292229       0.393515\n                        4            0.288411       0.336151\n                        5            0.239060       0.240055\n            2           5            0.302852       0.378118\n                        6            0.326269       0.493289\n                        7            0.324094       0.467643\n                        8            0.320831       0.447868\n                        9            0.394152       0.519923\n            3           9            0.403415       0.535816",
      "text/html": "<div>\n<style scoped>\n    .dataframe tbody tr th:only-of-type {\n        vertical-align: middle;\n    }\n\n    .dataframe tbody tr th {\n        vertical-align: top;\n    }\n\n    .dataframe thead th {\n        text-align: right;\n    }\n</style>\n<table border=\"1\" class=\"dataframe\">\n  <thead>\n    <tr style=\"text-align: right;\">\n      <th></th>\n      <th></th>\n      <th></th>\n      <th>error</th>\n      <th>squared_error</th>\n    </tr>\n    <tr>\n      <th>report_date</th>\n      <th>report_date</th>\n      <th>report_date</th>\n      <th></th>\n      <th></th>\n    </tr>\n  </thead>\n  <tbody>\n    <tr>\n      <th rowspan=\"10\" valign=\"top\">2021</th>\n      <th rowspan=\"5\" valign=\"top\">11</th>\n      <th>44</th>\n      <td>0.269146</td>\n      <td>0.178128</td>\n    </tr>\n    <tr>\n      <th>45</th>\n      <td>0.310535</td>\n      <td>0.391950</td>\n    </tr>\n    <tr>\n      <th>46</th>\n      <td>0.290993</td>\n      <td>0.384806</td>\n    </tr>\n    <tr>\n      <th>47</th>\n      <td>0.316544</td>\n      <td>0.375790</td>\n    </tr>\n    <tr>\n      <th>48</th>\n      <td>0.307516</td>\n      <td>0.336428</td>\n    </tr>\n    <tr>\n      <th rowspan=\"5\" valign=\"top\">12</th>\n      <th>48</th>\n      <td>0.281789</td>\n      <td>0.315747</td>\n    </tr>\n    <tr>\n      <th>49</th>\n      <td>0.266765</td>\n      <td>0.298959</td>\n    </tr>\n    <tr>\n      <th>50</th>\n      <td>0.254561</td>\n      <td>0.377926</td>\n    </tr>\n    <tr>\n      <th>51</th>\n      <td>0.246230</td>\n      <td>0.254228</td>\n    </tr>\n    <tr>\n      <th>52</th>\n      <td>0.246844</td>\n      <td>0.241001</td>\n    </tr>\n    <tr>\n      <th rowspan=\"11\" valign=\"top\">2022</th>\n      <th rowspan=\"5\" valign=\"top\">1</th>\n      <th>1</th>\n      <td>0.326378</td>\n      <td>0.449341</td>\n    </tr>\n    <tr>\n      <th>2</th>\n      <td>0.255687</td>\n      <td>0.323720</td>\n    </tr>\n    <tr>\n      <th>3</th>\n      <td>0.292229</td>\n      <td>0.393515</td>\n    </tr>\n    <tr>\n      <th>4</th>\n      <td>0.288411</td>\n      <td>0.336151</td>\n    </tr>\n    <tr>\n      <th>5</th>\n      <td>0.239060</td>\n      <td>0.240055</td>\n    </tr>\n    <tr>\n      <th rowspan=\"5\" valign=\"top\">2</th>\n      <th>5</th>\n      <td>0.302852</td>\n      <td>0.378118</td>\n    </tr>\n    <tr>\n      <th>6</th>\n      <td>0.326269</td>\n      <td>0.493289</td>\n    </tr>\n    <tr>\n      <th>7</th>\n      <td>0.324094</td>\n      <td>0.467643</td>\n    </tr>\n    <tr>\n      <th>8</th>\n      <td>0.320831</td>\n      <td>0.447868</td>\n    </tr>\n    <tr>\n      <th>9</th>\n      <td>0.394152</td>\n      <td>0.519923</td>\n    </tr>\n    <tr>\n      <th>3</th>\n      <th>9</th>\n      <td>0.403415</td>\n      <td>0.535816</td>\n    </tr>\n  </tbody>\n</table>\n</div>"
     },
     "execution_count": 22,
     "metadata": {},
     "output_type": "execute_result"
    }
   ],
   "source": [
    "simple_groups"
   ],
   "metadata": {
    "collapsed": false,
    "pycharm": {
     "name": "#%%\n"
    }
   }
  },
  {
   "cell_type": "code",
   "execution_count": 25,
   "outputs": [],
   "source": [
    "good_time_period = deepmm_sample[deepmm_sample.report_date <= pd.to_datetime('2022-02-05')]"
   ],
   "metadata": {
    "collapsed": false,
    "pycharm": {
     "name": "#%%\n"
    }
   }
  },
  {
   "cell_type": "code",
   "execution_count": 28,
   "outputs": [],
   "source": [
    "good_time_period.to_csv('../data/deepmm_sample_1.csv')"
   ],
   "metadata": {
    "collapsed": false,
    "pycharm": {
     "name": "#%%\n"
    }
   }
  },
  {
   "cell_type": "code",
   "execution_count": null,
   "outputs": [],
   "source": [],
   "metadata": {
    "collapsed": false,
    "pycharm": {
     "name": "#%%\n"
    }
   }
  }
 ],
 "metadata": {
  "kernelspec": {
   "display_name": "Python 3",
   "language": "python",
   "name": "python3"
  },
  "language_info": {
   "codemirror_mode": {
    "name": "ipython",
    "version": 2
   },
   "file_extension": ".py",
   "mimetype": "text/x-python",
   "name": "python",
   "nbconvert_exporter": "python",
   "pygments_lexer": "ipython2",
   "version": "2.7.6"
  }
 },
 "nbformat": 4,
 "nbformat_minor": 0
}